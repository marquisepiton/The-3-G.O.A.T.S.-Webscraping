{
 "cells": [
  {
   "cell_type": "markdown",
   "metadata": {},
   "source": [
    "# The 3 Goats: Data Scraping"
   ]
  },
  {
   "cell_type": "markdown",
   "metadata": {},
   "source": [
    "Before working on the backend part of the project, I needed to grab the necessary data from the ESPN website. For all 3 of the players, the data I will be scaping \"regular season average\", \"regular season total\", \"postseason average\", \"postseason total\". The data will be stored in this these variables: \n",
    "\n",
    "| Lebron player: 1     | Kobe  player: 2   | Micheal player: 3    |\n",
    "| :------------- | :----------: | -----------: |\n",
    "| lebron_regular_season_average  | kobe_regular_season_average   | micheal_regular_season_average    |\n",
    "|  lebron_regular_season_total | kobe_regular_season_total | micheal_regular_season_total\n",
    "|lebron_postseason_average | kobe_postseason_average | micheal_postseason_average\n",
    "| lebron_postseason_total | kobe_postseason_total | micheal_postseason_total\n",
    "\n",
    "The data should be tabular"
   ]
  },
  {
   "cell_type": "code",
   "execution_count": null,
   "metadata": {},
   "outputs": [],
   "source": [
    "# Import libraries\n",
    "import pandas as pd\n",
    "import numpy as np\n",
    "import matplotlib.pyplot as plt\n",
    "import seaborn as sns\n",
    "import re\n",
    "import requests\n",
    "from bs4 import BeautifulSoup\n",
    "%matplotlib inline"
   ]
  },
  {
   "cell_type": "markdown",
   "metadata": {},
   "source": [
    "# Lebron"
   ]
  },
  {
   "cell_type": "code",
   "execution_count": null,
   "metadata": {},
   "outputs": [],
   "source": [
    "# Last extraction: April 28, 2021\n",
    "# Grabbing Lebron's regular seasons stats.\n",
    "url_lebron_regular = \"https://www.espn.com/nba/player/stats/_/id/1966/lebron-james\"\n",
    "df_lebron_reg = pd.read_html(url_lebron_regular)\n",
    "# Grabbing Lebron's postseason stats\n",
    "url_lebron_post = \"https://www.espn.com/nba/player/stats/_/id/1966/type/nba/seasontype/3\"\n",
    "# This will provide the \"seasons\" & the \"Team\" that he played for. \n",
    "df_lebron_post = pd.read_html(url_lebron_post)\n",
    "# This will provide the regular season teams\n",
    "lebron_teams_reg = df_lebron_reg[0]\n",
    "# This will provide the post season teams\n",
    "lebron_teams_post = df_lebron_post[0]\n",
    "# This will provide the regular season average\n",
    "lebron_regular_season_average_stats = df_lebron_reg[1]\n",
    "# This will provide the regular season total\n",
    "lebron_regular_season_total_stats = df_lebron_reg[3]\n",
    "# This will provide the postseason average\n",
    "lebron_postseason_average_stats = df_lebron_post[1]\n",
    "# This will provide the postseason total\n",
    "lebron_postseason_total_stats = df_lebron_post[3]"
   ]
  },
  {
   "cell_type": "markdown",
   "metadata": {},
   "source": [
    "# Regular Season Stats"
   ]
  },
  {
   "cell_type": "markdown",
   "metadata": {},
   "source": [
    "## Average"
   ]
  },
  {
   "cell_type": "code",
   "execution_count": null,
   "metadata": {},
   "outputs": [],
   "source": [
    "lebron_teams.head()"
   ]
  },
  {
   "cell_type": "code",
   "execution_count": null,
   "metadata": {},
   "outputs": [],
   "source": [
    "lebron_regular_season_stats.head()"
   ]
  },
  {
   "cell_type": "code",
   "execution_count": null,
   "metadata": {},
   "outputs": [],
   "source": [
    "lebron_full_regular_average_stats = lebron_teams_reg.join(lebron_regular_season_stats)\n",
    "lebron_full_regular_average_stats.head()"
   ]
  },
  {
   "cell_type": "code",
   "execution_count": null,
   "metadata": {},
   "outputs": [],
   "source": [
    "lebron_full_regular_average_stats['player'] = 1\n",
    "lebron_full_regular_average_stats"
   ]
  },
  {
   "cell_type": "code",
   "execution_count": null,
   "metadata": {},
   "outputs": [],
   "source": [
    "lebron_regular_season_average = lebron_full_regular_average_stats.rename(columns=str.lower)"
   ]
  },
  {
   "cell_type": "code",
   "execution_count": null,
   "metadata": {},
   "outputs": [],
   "source": [
    "lebron_regular_season_average.head()"
   ]
  },
  {
   "cell_type": "markdown",
   "metadata": {},
   "source": [
    "## Total"
   ]
  },
  {
   "cell_type": "code",
   "execution_count": null,
   "metadata": {},
   "outputs": [],
   "source": [
    "lebron_regular_season_total_stats.head()"
   ]
  },
  {
   "cell_type": "code",
   "execution_count": null,
   "metadata": {},
   "outputs": [],
   "source": [
    "lebron_full_regular_total_stats = lebron_teams_reg.join(lebron_regular_season_total_stats)\n",
    "lebron_full_regular_total_stats['player'] = 1\n"
   ]
  },
  {
   "cell_type": "code",
   "execution_count": null,
   "metadata": {},
   "outputs": [],
   "source": [
    "lebron_regular_season_total = lebron_full_regular_total_stats.rename(columns=str.lower)"
   ]
  },
  {
   "cell_type": "code",
   "execution_count": null,
   "metadata": {},
   "outputs": [],
   "source": [
    "lebron_regular_season_total.head()"
   ]
  },
  {
   "cell_type": "markdown",
   "metadata": {},
   "source": [
    "# Postseason Stats"
   ]
  },
  {
   "cell_type": "markdown",
   "metadata": {},
   "source": [
    "## Average"
   ]
  },
  {
   "cell_type": "code",
   "execution_count": null,
   "metadata": {},
   "outputs": [],
   "source": [
    "lebron_postseason_average_stats.head()"
   ]
  },
  {
   "cell_type": "code",
   "execution_count": null,
   "metadata": {},
   "outputs": [],
   "source": [
    "lebron_full_postseason_average_stats = lebron_teams_post.join(lebron_postseason_average_stats)\n",
    "lebron_full_postseason_average_stats['player'] = 1\n",
    "lebron_postseason_average = lebron_full_postseason_average_stats.rename(columns=str.lower)\n",
    "lebron_postseason_average"
   ]
  },
  {
   "cell_type": "markdown",
   "metadata": {},
   "source": [
    "## Total"
   ]
  },
  {
   "cell_type": "code",
   "execution_count": null,
   "metadata": {},
   "outputs": [],
   "source": [
    "lebron_postseason_total_stats.head()"
   ]
  },
  {
   "cell_type": "code",
   "execution_count": null,
   "metadata": {},
   "outputs": [],
   "source": [
    "lebron_full_postseason_total_stats = lebron_teams_post.join(lebron_postseason_total_stats)\n",
    "lebron_full_postseason_total_stats['player'] = 1\n",
    "lebron_postseason_total = lebron_full_postseason_total_stats.rename(columns=str.lower)\n",
    "lebron_postseason_total.tail()"
   ]
  },
  {
   "cell_type": "markdown",
   "metadata": {},
   "source": [
    "# Kobe "
   ]
  },
  {
   "cell_type": "code",
   "execution_count": null,
   "metadata": {},
   "outputs": [],
   "source": [
    "# Last extraction: April 28, 2021\n",
    "# Grabbing Kobe's regular seasons stats.\n",
    "url_kobe_regular = \"https://www.espn.com/nba/player/stats/_/id/110/kobe-bryant\"\n",
    "df_kobe_reg = pd.read_html(url_kobe_regular)\n",
    "# Grabbing Kobe's postseason stats\n",
    "url_kobe_post = \"https://www.espn.com/nba/player/stats/_/id/110/type/nba/seasontype/3\"\n",
    "# This will provide the \"seasons\" & the \"Team\" that he played for. \n",
    "df_kobe_post = pd.read_html(url_kobe_post)\n",
    "# This will provide the regular season teams\n",
    "kobe_teams_reg = df_kobe_reg[0]\n",
    "# This will provide the post season teams\n",
    "kobe_teams_post = df_kobe_post[0]\n",
    "# This will provide the regular season average\n",
    "kobe_regular_season_average_stats = df_kobe_reg[1]\n",
    "# This will provide the regular season total\n",
    "kobe_regular_season_total_stats = df_kobe_reg[3]\n",
    "# This will provide the postseason average\n",
    "kobe_postseason_average_stats = df_kobe_post[1]\n",
    "# This will provide the postseason total\n",
    "kobe_postseason_total_stats = df_kobe_post[3]"
   ]
  },
  {
   "cell_type": "markdown",
   "metadata": {},
   "source": [
    "# Regular Season Stats"
   ]
  },
  {
   "cell_type": "markdown",
   "metadata": {},
   "source": [
    "## Average"
   ]
  },
  {
   "cell_type": "code",
   "execution_count": null,
   "metadata": {},
   "outputs": [],
   "source": [
    "kobe_teams.head()"
   ]
  },
  {
   "cell_type": "code",
   "execution_count": null,
   "metadata": {},
   "outputs": [],
   "source": [
    "kobe_regular_season_average_stats.head()"
   ]
  },
  {
   "cell_type": "code",
   "execution_count": null,
   "metadata": {},
   "outputs": [],
   "source": [
    "kobe_full_regular_average_stats = kobe_teams_reg.join(kobe_regular_season_average_stats)\n",
    "kobe_full_regular_average_stats['player'] = 2\n",
    "kobe_regular_season_average = kobe_full_regular_average_stats.rename(columns=str.lower)\n",
    "kobe_regular_season_average.head()"
   ]
  },
  {
   "cell_type": "markdown",
   "metadata": {},
   "source": [
    "## Total"
   ]
  },
  {
   "cell_type": "code",
   "execution_count": null,
   "metadata": {},
   "outputs": [],
   "source": [
    "kobe_regular_season_total_stats.head()"
   ]
  },
  {
   "cell_type": "code",
   "execution_count": null,
   "metadata": {},
   "outputs": [],
   "source": [
    "kobe_full_regular_total_stats = kobe_teams_reg.join(kobe_regular_season_total_stats)\n",
    "kobe_full_regular_total_stats['player'] = 2\n",
    "kobe_regular_season_total = kobe_full_regular_total_stats.rename(columns=str.lower)\n",
    "kobe_regular_season_total.head()"
   ]
  },
  {
   "cell_type": "markdown",
   "metadata": {},
   "source": [
    "# Postseason Stats"
   ]
  },
  {
   "cell_type": "markdown",
   "metadata": {},
   "source": [
    "## Average"
   ]
  },
  {
   "cell_type": "code",
   "execution_count": null,
   "metadata": {},
   "outputs": [],
   "source": [
    "kobe_postseason_average_stats.head()"
   ]
  },
  {
   "cell_type": "code",
   "execution_count": null,
   "metadata": {},
   "outputs": [],
   "source": [
    "kobe_full_postseason_average_stats = kobe_teams_post.join(kobe_postseason_average_stats)\n",
    "kobe_full_postseason_average_stats['player'] = 2\n",
    "kobe_postseason_average = kobe_full_postseason_average_stats.rename(columns=str.lower)\n",
    "kobe_postseason_average.tail()"
   ]
  },
  {
   "cell_type": "markdown",
   "metadata": {},
   "source": [
    "## Total"
   ]
  },
  {
   "cell_type": "code",
   "execution_count": null,
   "metadata": {},
   "outputs": [],
   "source": [
    "kobe_postseason_total_stats"
   ]
  },
  {
   "cell_type": "code",
   "execution_count": null,
   "metadata": {},
   "outputs": [],
   "source": [
    "kobe_full_postseason_total_stats = kobe_teams_post.join(kobe_postseason_total_stats)\n",
    "kobe_full_postseason_total_stats['player'] = 2\n",
    "kobe_postseason_total = kobe_full_postseason_total_stats.rename(columns=str.lower)\n",
    "kobe_postseason_total"
   ]
  },
  {
   "cell_type": "markdown",
   "metadata": {},
   "source": [
    "# Micheal "
   ]
  },
  {
   "cell_type": "code",
   "execution_count": null,
   "metadata": {},
   "outputs": [],
   "source": [
    "# Last extraction: April 28, 2021\n",
    "# Grabbing Micheal's regular seasons stats.\n",
    "url_micheal_regular = \"https://www.espn.com/nba/player/stats/_/id/1035/michael-jordan\"\n",
    "df_micheal_reg = pd.read_html(url_micheal_regular)\n",
    "# Grabbing Kobe's postseason stats\n",
    "url_micheal_post = \"https://www.espn.com/nba/player/stats/_/id/1035/type/nba/seasontype/3\"\n",
    "# This will provide the \"seasons\" & the \"Team\" that he played for. \n",
    "df_micheal_post = pd.read_html(url_micheal_post)\n",
    "# This will provide the regular season teams\n",
    "micheal_teams_reg = df_micheal_reg[0]\n",
    "# This will provide the post season teams\n",
    "micheal_teams_post = df_micheal_post[0]\n",
    "# This will provide the regular season average\n",
    "micheal_regular_season_average_stats = df_micheal_reg[1]\n",
    "# This will provide the regular season total\n",
    "micheal_regular_season_total_stats = df_micheal_reg[3]\n",
    "# This will provide the postseason average\n",
    "micheal_postseason_average_stats = df_micheal_post[1]\n",
    "# This will provide the postseason total\n",
    "micheal_postseason_total_stats = df_micheal_post[3]"
   ]
  },
  {
   "cell_type": "markdown",
   "metadata": {},
   "source": [
    "# Regular Season Stats"
   ]
  },
  {
   "cell_type": "markdown",
   "metadata": {},
   "source": [
    "## Average"
   ]
  },
  {
   "cell_type": "code",
   "execution_count": null,
   "metadata": {},
   "outputs": [],
   "source": [
    "micheal_full_regular_average_stats = micheal_teams_reg.join(micheal_regular_season_average_stats)\n",
    "micheal_full_regular_average_stats['player'] = 3\n",
    "micheal_regular_season_average = micheal_full_regular_average_stats.rename(columns=str.lower)\n",
    "micheal_regular_season_average.head()"
   ]
  },
  {
   "cell_type": "markdown",
   "metadata": {},
   "source": [
    "## Total"
   ]
  },
  {
   "cell_type": "code",
   "execution_count": null,
   "metadata": {},
   "outputs": [],
   "source": [
    "micheal_full_regular_total_stats = micheal_teams_reg.join(micheal_regular_season_total_stats)\n",
    "micheal_full_regular_total_stats['player'] = 3\n",
    "micheal_regular_season_total = micheal_full_regular_total_stats.rename(columns=str.lower)\n",
    "micheal_regular_season_total.head()"
   ]
  },
  {
   "cell_type": "markdown",
   "metadata": {},
   "source": [
    "# Postseason Stats"
   ]
  },
  {
   "cell_type": "markdown",
   "metadata": {},
   "source": [
    "## Average"
   ]
  },
  {
   "cell_type": "code",
   "execution_count": null,
   "metadata": {},
   "outputs": [],
   "source": [
    "micheal_postseason_average_stats.head()"
   ]
  },
  {
   "cell_type": "code",
   "execution_count": null,
   "metadata": {},
   "outputs": [],
   "source": [
    "micheal_full_postseason_average_stats = micheal_teams_post.join(micheal_postseason_average_stats)\n",
    "micheal_full_postseason_average_stats['player'] = 3\n",
    "micheal_postseason_average = micheal_full_postseason_average_stats.rename(columns=str.lower)\n",
    "micheal_postseason_average.tail()"
   ]
  },
  {
   "cell_type": "markdown",
   "metadata": {},
   "source": [
    "## Total "
   ]
  },
  {
   "cell_type": "code",
   "execution_count": null,
   "metadata": {},
   "outputs": [],
   "source": [
    "micheal_postseason_total_stats.head()"
   ]
  },
  {
   "cell_type": "code",
   "execution_count": null,
   "metadata": {},
   "outputs": [],
   "source": [
    "micheal_full_postseason_total_stats = micheal_teams_post.join(micheal_postseason_total_stats)\n",
    "micheal_full_postseason_total_stats['player'] = 3\n",
    "micheal_postseason_total = micheal_full_postseason_total_stats.rename(columns=str.lower)\n",
    "micheal_postseason_total.tail()"
   ]
  },
  {
   "cell_type": "markdown",
   "metadata": {},
   "source": [
    "# Data merging "
   ]
  },
  {
   "cell_type": "markdown",
   "metadata": {},
   "source": [
    "Now its time to \"append\" the data together. I should come out with 4 Dataframes. \n"
   ]
  },
  {
   "cell_type": "markdown",
   "metadata": {},
   "source": [
    "## Regular Season Averages"
   ]
  },
  {
   "cell_type": "code",
   "execution_count": null,
   "metadata": {},
   "outputs": [],
   "source": [
    "# Combining the 3 player's regular season averages\n",
    "regular_season_averages = lebron_regular_season_average.append(kobe_regular_season_average\n",
    "                                                              ).append(micheal_regular_season_average)                                                            \n",
    "regular_season_averages.head()"
   ]
  },
  {
   "cell_type": "markdown",
   "metadata": {},
   "source": [
    "## Regular Season Totals"
   ]
  },
  {
   "cell_type": "code",
   "execution_count": null,
   "metadata": {},
   "outputs": [],
   "source": [
    "# Combining the 3 player's regular season totals\n",
    "regular_season_totals = lebron_regular_season_total.append(kobe_regular_season_total\n",
    "                                                              ).append(micheal_regular_season_total)                                                            \n",
    "regular_season_totals.tail()"
   ]
  },
  {
   "cell_type": "markdown",
   "metadata": {},
   "source": [
    "## Postseason Averages "
   ]
  },
  {
   "cell_type": "code",
   "execution_count": null,
   "metadata": {},
   "outputs": [],
   "source": [
    "# Combining the 3 player's postseason averages\n",
    "postseason_averages = lebron_postseason_average.append(kobe_postseason_average\n",
    "                                                              ).append(micheal_postseason_average)                                                            \n",
    "postseason_averages.tail()"
   ]
  },
  {
   "cell_type": "markdown",
   "metadata": {},
   "source": [
    "## Postseason Totals"
   ]
  },
  {
   "cell_type": "code",
   "execution_count": null,
   "metadata": {},
   "outputs": [],
   "source": [
    "# Combining the 3 player's postseason totals\n",
    "postseason_totals = lebron_postseason_total.append(kobe_postseason_total\n",
    "                                                              ).append(micheal_postseason_total)                                                            \n",
    "postseason_totals.tail()"
   ]
  },
  {
   "cell_type": "markdown",
   "metadata": {},
   "source": [
    "# Converting into CSV"
   ]
  },
  {
   "cell_type": "markdown",
   "metadata": {},
   "source": [
    "Now its time convert the 4 dataframes into csv format"
   ]
  },
  {
   "cell_type": "code",
   "execution_count": null,
   "metadata": {},
   "outputs": [],
   "source": [
    "# regular season data\n",
    "regular_season_averages.to_csv(r'./regular_season_averages.csv', index = False)\n",
    "regular_season_totals.to_csv(r'./regular_season_totals.csv', index= False)"
   ]
  },
  {
   "cell_type": "code",
   "execution_count": null,
   "metadata": {},
   "outputs": [],
   "source": [
    "# postseason data\n",
    "postseason_averages.to_csv(r'./postseason_averages.csv',index = False)\n",
    "postseason_totals.to_csv(r'./postseason_totals.csv')"
   ]
  },
  {
   "cell_type": "markdown",
   "metadata": {},
   "source": [
    "## All done!"
   ]
  }
 ],
 "metadata": {
  "kernelspec": {
   "display_name": "Python 3",
   "language": "python",
   "name": "python3"
  },
  "language_info": {
   "codemirror_mode": {
    "name": "ipython",
    "version": 3
   },
   "file_extension": ".py",
   "mimetype": "text/x-python",
   "name": "python",
   "nbconvert_exporter": "python",
   "pygments_lexer": "ipython3",
   "version": "3.8.5"
  }
 },
 "nbformat": 4,
 "nbformat_minor": 4
}
